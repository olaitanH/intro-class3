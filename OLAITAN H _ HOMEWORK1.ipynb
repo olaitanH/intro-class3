{
 "cells": [
  {
   "cell_type": "markdown",
   "id": "c8068101",
   "metadata": {},
   "source": [
    "# Homework\n",
    "\n",
    "\n",
    "1. Answer the following questions: https://quizizz.com/admin/quiz/5cd4265c88978d001a646e68/python-arithmetic-operators\n",
    "\n",
    "2. The formula for converting between Celsius and Fahrenheit is $(F-32)\\times\\frac{5}{9}=C$. Write this formula in python and use it to convert $200^{\\circ}$F to celsius\n",
    "\n",
    "3. The area of a Stadium of length  500m and breadth 200m (Hint: Area = length x breadth)\n",
    "\n",
    "4. The volume of a tank of length 240cm, breadth 160cm and 268cm wide. (Hint: Volume = Length x breadth x width)\n",
    "\n",
    "5. The simple interest at a principal of 250,000 naira, rate of 6% and in two years. (Hint: Simple Interest =( principal x rate x time)/100)\n",
    "\n",
    "6. Goods in a container cost 120,000,000 naira. If the goods were sold at 150,000,000 naira, what is the percentage profit on the gooods. (Hint: profit = Selling price – cost price) (Percentage profit = (profit/cost price) x 100)"
   ]
  },
  {
   "cell_type": "markdown",
   "id": "bb61e7dd",
   "metadata": {},
   "source": [
    "## QUIZ"
   ]
  },
  {
   "cell_type": "code",
   "execution_count": null,
   "id": "7b67da53",
   "metadata": {},
   "outputs": [],
   "source": [
    "1. Addition\n",
    "2. Subtraction\n",
    "3. Multiplication\n",
    "4. Division\n",
    "5. Modulo\n",
    "6. Less than\n",
    "7. Greater than\n",
    "8. Less than or equal to\n",
    "9. Greater than or equal to\n",
    "10. Equals to\n",
    "11. Not equal to\n",
    "12. True\n",
    "13. True"
   ]
  },
  {
   "cell_type": "code",
   "execution_count": 3,
   "id": "c65a85c8",
   "metadata": {},
   "outputs": [
    {
     "name": "stdout",
     "output_type": "stream",
     "text": [
      "93.33333333333334\n"
     ]
    }
   ],
   "source": [
    "F = 200\n",
    "\n",
    "C= (5/9)*(F-32)\n",
    "\n",
    "print(C)"
   ]
  },
  {
   "cell_type": "code",
   "execution_count": 8,
   "id": "917e729e",
   "metadata": {
    "scrolled": false
   },
   "outputs": [
    {
     "name": "stdout",
     "output_type": "stream",
     "text": [
      "100000\n"
     ]
    }
   ],
   "source": [
    "L = 500\n",
    "\n",
    "B = 200\n",
    "\n",
    "X = (L) *(B) \n",
    "\n",
    "print(X)\n"
   ]
  },
  {
   "cell_type": "code",
   "execution_count": 10,
   "id": "e9b07f30",
   "metadata": {},
   "outputs": [
    {
     "name": "stdout",
     "output_type": "stream",
     "text": [
      "10291200\n"
     ]
    }
   ],
   "source": [
    "L = 240\n",
    "\n",
    "B = 160\n",
    "\n",
    "W = 268\n",
    "\n",
    "V = (L)*(B)*(W)\n",
    "\n",
    "print(V)"
   ]
  },
  {
   "cell_type": "code",
   "execution_count": 12,
   "id": "260f86d8",
   "metadata": {},
   "outputs": [
    {
     "name": "stdout",
     "output_type": "stream",
     "text": [
      "30000.0\n"
     ]
    }
   ],
   "source": [
    "P = 250000\n",
    "\n",
    "R = 6/100\n",
    "\n",
    "T = 2\n",
    "\n",
    "SI = (P)*(R)*(T)\n",
    "\n",
    "print(SI)"
   ]
  },
  {
   "cell_type": "code",
   "execution_count": 15,
   "id": "1d3da633",
   "metadata": {},
   "outputs": [
    {
     "name": "stdout",
     "output_type": "stream",
     "text": [
      "25.0\n"
     ]
    }
   ],
   "source": [
    "SP = 150000000\n",
    "\n",
    "CP = 120000000\n",
    "\n",
    "P = (SP)-(CP)\n",
    "\n",
    "PP = (P/CP)*100\n",
    "\n",
    "print(PP)"
   ]
  },
  {
   "cell_type": "code",
   "execution_count": null,
   "id": "5e7a3a71",
   "metadata": {},
   "outputs": [],
   "source": []
  }
 ],
 "metadata": {
  "kernelspec": {
   "display_name": "Python 3 (ipykernel)",
   "language": "python",
   "name": "python3"
  },
  "language_info": {
   "codemirror_mode": {
    "name": "ipython",
    "version": 3
   },
   "file_extension": ".py",
   "mimetype": "text/x-python",
   "name": "python",
   "nbconvert_exporter": "python",
   "pygments_lexer": "ipython3",
   "version": "3.9.13"
  }
 },
 "nbformat": 4,
 "nbformat_minor": 5
}
